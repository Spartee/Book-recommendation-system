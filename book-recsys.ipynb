{
 "cells": [
  {
   "cell_type": "code",
   "execution_count": 1,
   "metadata": {},
   "outputs": [],
   "source": [
    "import matplotlib.pyplot as plt\n",
    "import numpy as np\n",
    "import seaborn as sns\n",
    "from scipy import stats\n",
    "from ast import literal_eval\n",
    "from nltk.stem.snowball import SnowballStemmer\n",
    "from nltk.stem.wordnet import WordNetLemmatizer\n",
    "from nltk.corpus import wordnet\n",
    "\n",
    "\n",
    "\n",
    "import pandas as pd\n",
    "from sklearn.metrics.pairwise import linear_kernel\n",
    "from sklearn.feature_extraction.text import TfidfVectorizer"
   ]
  },
  {
   "cell_type": "markdown",
   "metadata": {},
   "source": [
    "## Simple Weighted Rating\n",
    "\n",
    "Weighted Rating (WR) = $(\\frac{v}{v + m} . R) + (\\frac{m}{v + m} . C)$\n",
    "\n",
    "where,\n",
    "* *v* is the number of votes for the book (total)\n",
    "* *m* is the minimum votes required to be listed in the chart\n",
    "* *R* is the average rating of all books\n",
    "* *C* is the mean vote across the entire dataset\n",
    "\n",
    "The next step is to determine an appropriate value for *m*,\n",
    "the minimum ratings required to be listed in the chart. We \n",
    "will use **95th percentile** as our cutoff. In other words,\n",
    "for a book to feature in the charts, it must have more votes\n",
    "than at least 95% of the books in the list.\n"
   ]
  },
  {
   "cell_type": "code",
   "execution_count": 2,
   "metadata": {},
   "outputs": [
    {
     "data": {
      "text/plain": [
       "2.892806491434076"
      ]
     },
     "execution_count": 2,
     "metadata": {},
     "output_type": "execute_result"
    }
   ],
   "source": [
    "data = pd.read_csv(\"./goodreads_cleaned.csv\")\n",
    "ratings = data[\"Rating\"]\n",
    "rating_count = data[\"RatingDistTotal\"]\n",
    "MR = ratings.mean()\n",
    "MR"
   ]
  },
  {
   "cell_type": "code",
   "execution_count": 18,
   "metadata": {},
   "outputs": [
    {
     "data": {
      "text/plain": [
       "15602.0"
      ]
     },
     "execution_count": 18,
     "metadata": {},
     "output_type": "execute_result"
    }
   ],
   "source": [
    "m = rating_count.quantile(0.98)\n",
    "m"
   ]
  },
  {
   "cell_type": "markdown",
   "metadata": {},
   "source": [
    "### Weighting Metrics\n",
    "- ``MR`` = Mean rating = 2.89 (out of 5)\n",
    "- ``m`` = minimum number of ratings required"
   ]
  },
  {
   "cell_type": "code",
   "execution_count": 7,
   "metadata": {},
   "outputs": [],
   "source": [
    "def weighted_rating(book):\n",
    "    v = book['RatingDistTotal']\n",
    "    R = book['Rating']\n",
    "    return (v/(v+m) * R) + (m/(m+v) * MR)"
   ]
  },
  {
   "cell_type": "code",
   "execution_count": 27,
   "metadata": {},
   "outputs": [
    {
     "data": {
      "text/plain": [
       "(36525, 16)"
      ]
     },
     "execution_count": 27,
     "metadata": {},
     "output_type": "execute_result"
    }
   ],
   "source": [
    "top_books = data[(data[\"RatingDistTotal\"] >= m) & (data[\"Rating\"] > MR)]\n",
    "top_books.shape"
   ]
  },
  {
   "cell_type": "code",
   "execution_count": 30,
   "metadata": {},
   "outputs": [
    {
     "data": {
      "text/html": [
       "<div>\n",
       "<style scoped>\n",
       "    .dataframe tbody tr th:only-of-type {\n",
       "        vertical-align: middle;\n",
       "    }\n",
       "\n",
       "    .dataframe tbody tr th {\n",
       "        vertical-align: top;\n",
       "    }\n",
       "\n",
       "    .dataframe thead th {\n",
       "        text-align: right;\n",
       "    }\n",
       "</style>\n",
       "<table border=\"1\" class=\"dataframe\">\n",
       "  <thead>\n",
       "    <tr style=\"text-align: right;\">\n",
       "      <th></th>\n",
       "      <th>Id</th>\n",
       "      <th>Name</th>\n",
       "      <th>Authors</th>\n",
       "      <th>ISBN</th>\n",
       "      <th>Rating</th>\n",
       "      <th>PublishYear</th>\n",
       "      <th>PublishMonth</th>\n",
       "      <th>Publisher</th>\n",
       "      <th>RatingDist5</th>\n",
       "      <th>RatingDist4</th>\n",
       "      <th>RatingDist3</th>\n",
       "      <th>RatingDist2</th>\n",
       "      <th>RatingDist1</th>\n",
       "      <th>RatingDistTotal</th>\n",
       "      <th>CountsOfReview</th>\n",
       "      <th>Description</th>\n",
       "      <th>weighted</th>\n",
       "    </tr>\n",
       "  </thead>\n",
       "  <tbody>\n",
       "    <tr>\n",
       "      <th>231103</th>\n",
       "      <td>113968</td>\n",
       "      <td>Le Grinch</td>\n",
       "      <td>Dr. Seuss</td>\n",
       "      <td>2266106015</td>\n",
       "      <td>4.36</td>\n",
       "      <td>2002</td>\n",
       "      <td>1</td>\n",
       "      <td>Presse Pocket</td>\n",
       "      <td>187127</td>\n",
       "      <td>74900</td>\n",
       "      <td>38530</td>\n",
       "      <td>9359</td>\n",
       "      <td>5084</td>\n",
       "      <td>315000</td>\n",
       "      <td>0</td>\n",
       "      <td></td>\n",
       "      <td>4.290759</td>\n",
       "    </tr>\n",
       "    <tr>\n",
       "      <th>229222</th>\n",
       "      <td>110805</td>\n",
       "      <td>Pride and Prejudice</td>\n",
       "      <td>Jane Austen</td>\n",
       "      <td>1933652446</td>\n",
       "      <td>4.26</td>\n",
       "      <td>2005</td>\n",
       "      <td>7</td>\n",
       "      <td>Bed Book</td>\n",
       "      <td>1521610</td>\n",
       "      <td>774781</td>\n",
       "      <td>355933</td>\n",
       "      <td>108580</td>\n",
       "      <td>72614</td>\n",
       "      <td>2833518</td>\n",
       "      <td>15</td>\n",
       "      <td></td>\n",
       "      <td>4.252513</td>\n",
       "    </tr>\n",
       "    <tr>\n",
       "      <th>238113</th>\n",
       "      <td>126452</td>\n",
       "      <td>On Writing: A Memoir of the Craft</td>\n",
       "      <td>Stephen King</td>\n",
       "      <td>1416549862</td>\n",
       "      <td>4.33</td>\n",
       "      <td>2007</td>\n",
       "      <td>25</td>\n",
       "      <td>Pocket Star</td>\n",
       "      <td>108991</td>\n",
       "      <td>69709</td>\n",
       "      <td>24232</td>\n",
       "      <td>4514</td>\n",
       "      <td>2079</td>\n",
       "      <td>209525</td>\n",
       "      <td>2</td>\n",
       "      <td></td>\n",
       "      <td>4.230398</td>\n",
       "    </tr>\n",
       "    <tr>\n",
       "      <th>472388</th>\n",
       "      <td>2068057</td>\n",
       "      <td>Going Postal (Discworld, #33)</td>\n",
       "      <td>Terry Pratchett</td>\n",
       "      <td>1417735481</td>\n",
       "      <td>4.39</td>\n",
       "      <td>2005</td>\n",
       "      <td>9</td>\n",
       "      <td>Turtleback Books</td>\n",
       "      <td>53413</td>\n",
       "      <td>34802</td>\n",
       "      <td>10637</td>\n",
       "      <td>1286</td>\n",
       "      <td>451</td>\n",
       "      <td>100589</td>\n",
       "      <td>3</td>\n",
       "      <td>Arch-swindler Moist Van Lipwig never believed ...</td>\n",
       "      <td>4.188958</td>\n",
       "    </tr>\n",
       "    <tr>\n",
       "      <th>410959</th>\n",
       "      <td>833468</td>\n",
       "      <td>Going Postal (Discworld, #33)</td>\n",
       "      <td>Terry Pratchett</td>\n",
       "      <td>0385603428</td>\n",
       "      <td>4.39</td>\n",
       "      <td>2004</td>\n",
       "      <td>29</td>\n",
       "      <td>Doubleday</td>\n",
       "      <td>52538</td>\n",
       "      <td>34354</td>\n",
       "      <td>10504</td>\n",
       "      <td>1242</td>\n",
       "      <td>402</td>\n",
       "      <td>99040</td>\n",
       "      <td>60</td>\n",
       "      <td>&lt;p&gt;Moist von Lipwig was a con artist and a fra...</td>\n",
       "      <td>4.186242</td>\n",
       "    </tr>\n",
       "    <tr>\n",
       "      <th>...</th>\n",
       "      <td>...</td>\n",
       "      <td>...</td>\n",
       "      <td>...</td>\n",
       "      <td>...</td>\n",
       "      <td>...</td>\n",
       "      <td>...</td>\n",
       "      <td>...</td>\n",
       "      <td>...</td>\n",
       "      <td>...</td>\n",
       "      <td>...</td>\n",
       "      <td>...</td>\n",
       "      <td>...</td>\n",
       "      <td>...</td>\n",
       "      <td>...</td>\n",
       "      <td>...</td>\n",
       "      <td>...</td>\n",
       "      <td>...</td>\n",
       "    </tr>\n",
       "    <tr>\n",
       "      <th>164599</th>\n",
       "      <td>664737</td>\n",
       "      <td>How the Garcia Girls Lost Their Accents</td>\n",
       "      <td>Julia Alvarez</td>\n",
       "      <td>0945575572</td>\n",
       "      <td>3.64</td>\n",
       "      <td>1991</td>\n",
       "      <td>4</td>\n",
       "      <td>Algonquin Books</td>\n",
       "      <td>4299</td>\n",
       "      <td>8916</td>\n",
       "      <td>7673</td>\n",
       "      <td>1876</td>\n",
       "      <td>434</td>\n",
       "      <td>23198</td>\n",
       "      <td>47</td>\n",
       "      <td>Julia Alvarez's brilliant first book of fictio...</td>\n",
       "      <td>3.339543</td>\n",
       "    </tr>\n",
       "    <tr>\n",
       "      <th>387242</th>\n",
       "      <td>1287726</td>\n",
       "      <td>I'm Ok, You're Ok</td>\n",
       "      <td>Thomas A. Harris</td>\n",
       "      <td>0099552418</td>\n",
       "      <td>3.74</td>\n",
       "      <td>1995</td>\n",
       "      <td>4</td>\n",
       "      <td>Arrow</td>\n",
       "      <td>4512</td>\n",
       "      <td>5043</td>\n",
       "      <td>4715</td>\n",
       "      <td>1419</td>\n",
       "      <td>373</td>\n",
       "      <td>16062</td>\n",
       "      <td>7</td>\n",
       "      <td>This practical guide to Transactional Analysis...</td>\n",
       "      <td>3.322557</td>\n",
       "    </tr>\n",
       "    <tr>\n",
       "      <th>1112041</th>\n",
       "      <td>381514</td>\n",
       "      <td>Bleachers</td>\n",
       "      <td>John Grisham</td>\n",
       "      <td>0385340877</td>\n",
       "      <td>3.48</td>\n",
       "      <td>2007</td>\n",
       "      <td>29</td>\n",
       "      <td>Delta</td>\n",
       "      <td>6741</td>\n",
       "      <td>10628</td>\n",
       "      <td>12287</td>\n",
       "      <td>4475</td>\n",
       "      <td>1335</td>\n",
       "      <td>35466</td>\n",
       "      <td>78</td>\n",
       "      <td></td>\n",
       "      <td>3.300604</td>\n",
       "    </tr>\n",
       "    <tr>\n",
       "      <th>481031</th>\n",
       "      <td>2087619</td>\n",
       "      <td>The Gatecrasher</td>\n",
       "      <td>Madeleine Wickham</td>\n",
       "      <td>1427204373</td>\n",
       "      <td>3.27</td>\n",
       "      <td>2009</td>\n",
       "      <td>7</td>\n",
       "      <td>MacMillan Audio</td>\n",
       "      <td>3329</td>\n",
       "      <td>5617</td>\n",
       "      <td>8751</td>\n",
       "      <td>3722</td>\n",
       "      <td>1179</td>\n",
       "      <td>22598</td>\n",
       "      <td>6</td>\n",
       "      <td>The Secret Is Out!&lt;br /&gt;Madeleine Wickham is S...</td>\n",
       "      <td>3.115943</td>\n",
       "    </tr>\n",
       "    <tr>\n",
       "      <th>1155970</th>\n",
       "      <td>982535</td>\n",
       "      <td>Mein Kampf</td>\n",
       "      <td>Adolf Hitler</td>\n",
       "      <td>0944379095</td>\n",
       "      <td>3.16</td>\n",
       "      <td>2000</td>\n",
       "      <td>1</td>\n",
       "      <td>C P a Book Pub</td>\n",
       "      <td>6217</td>\n",
       "      <td>6641</td>\n",
       "      <td>9161</td>\n",
       "      <td>5203</td>\n",
       "      <td>4426</td>\n",
       "      <td>31648</td>\n",
       "      <td>0</td>\n",
       "      <td>Alternate cover edition of &lt;a href=\"https://ww...</td>\n",
       "      <td>3.071772</td>\n",
       "    </tr>\n",
       "  </tbody>\n",
       "</table>\n",
       "<p>100 rows × 17 columns</p>\n",
       "</div>"
      ],
      "text/plain": [
       "              Id                                     Name            Authors  \\\n",
       "231103    113968                                Le Grinch          Dr. Seuss   \n",
       "229222    110805                      Pride and Prejudice        Jane Austen   \n",
       "238113    126452        On Writing: A Memoir of the Craft       Stephen King   \n",
       "472388   2068057            Going Postal (Discworld, #33)    Terry Pratchett   \n",
       "410959    833468            Going Postal (Discworld, #33)    Terry Pratchett   \n",
       "...          ...                                      ...                ...   \n",
       "164599    664737  How the Garcia Girls Lost Their Accents      Julia Alvarez   \n",
       "387242   1287726                        I'm Ok, You're Ok   Thomas A. Harris   \n",
       "1112041   381514                                Bleachers       John Grisham   \n",
       "481031   2087619                          The Gatecrasher  Madeleine Wickham   \n",
       "1155970   982535                               Mein Kampf       Adolf Hitler   \n",
       "\n",
       "               ISBN  Rating  PublishYear  PublishMonth         Publisher  \\\n",
       "231103   2266106015    4.36         2002             1     Presse Pocket   \n",
       "229222   1933652446    4.26         2005             7          Bed Book   \n",
       "238113   1416549862    4.33         2007            25       Pocket Star   \n",
       "472388   1417735481    4.39         2005             9  Turtleback Books   \n",
       "410959   0385603428    4.39         2004            29         Doubleday   \n",
       "...             ...     ...          ...           ...               ...   \n",
       "164599   0945575572    3.64         1991             4   Algonquin Books   \n",
       "387242   0099552418    3.74         1995             4             Arrow   \n",
       "1112041  0385340877    3.48         2007            29             Delta   \n",
       "481031   1427204373    3.27         2009             7   MacMillan Audio   \n",
       "1155970  0944379095    3.16         2000             1    C P a Book Pub   \n",
       "\n",
       "         RatingDist5  RatingDist4  RatingDist3  RatingDist2  RatingDist1  \\\n",
       "231103        187127        74900        38530         9359         5084   \n",
       "229222       1521610       774781       355933       108580        72614   \n",
       "238113        108991        69709        24232         4514         2079   \n",
       "472388         53413        34802        10637         1286          451   \n",
       "410959         52538        34354        10504         1242          402   \n",
       "...              ...          ...          ...          ...          ...   \n",
       "164599          4299         8916         7673         1876          434   \n",
       "387242          4512         5043         4715         1419          373   \n",
       "1112041         6741        10628        12287         4475         1335   \n",
       "481031          3329         5617         8751         3722         1179   \n",
       "1155970         6217         6641         9161         5203         4426   \n",
       "\n",
       "         RatingDistTotal  CountsOfReview  \\\n",
       "231103            315000               0   \n",
       "229222           2833518              15   \n",
       "238113            209525               2   \n",
       "472388            100589               3   \n",
       "410959             99040              60   \n",
       "...                  ...             ...   \n",
       "164599             23198              47   \n",
       "387242             16062               7   \n",
       "1112041            35466              78   \n",
       "481031             22598               6   \n",
       "1155970            31648               0   \n",
       "\n",
       "                                               Description  weighted  \n",
       "231103                                                      4.290759  \n",
       "229222                                                      4.252513  \n",
       "238113                                                      4.230398  \n",
       "472388   Arch-swindler Moist Van Lipwig never believed ...  4.188958  \n",
       "410959   <p>Moist von Lipwig was a con artist and a fra...  4.186242  \n",
       "...                                                    ...       ...  \n",
       "164599   Julia Alvarez's brilliant first book of fictio...  3.339543  \n",
       "387242   This practical guide to Transactional Analysis...  3.322557  \n",
       "1112041                                                     3.300604  \n",
       "481031   The Secret Is Out!<br />Madeleine Wickham is S...  3.115943  \n",
       "1155970  Alternate cover edition of <a href=\"https://ww...  3.071772  \n",
       "\n",
       "[100 rows x 17 columns]"
      ]
     },
     "execution_count": 30,
     "metadata": {},
     "output_type": "execute_result"
    }
   ],
   "source": [
    "top_books[\"weighted\"] = top_books.apply(weighted_rating, axis=1)\n",
    "top_books.sample(100).sort_values(\"weighted\", ascending=False)"
   ]
  },
  {
   "cell_type": "code",
   "execution_count": null,
   "metadata": {},
   "outputs": [],
   "source": [
    "m = rating_count.quantile(0.95)\n",
    "top_books = data[(data[\"RatingDistTotal\"] >= m) & (data[\"Rating\"] > MR)]\n",
    "top_books[\"weighted\"] = top_books.apply(weighted_rating, axis=1)\n",
    "above_average = top_books.sort_values(\"weighted\", ascending=False)\n",
    "above_average.shape"
   ]
  },
  {
   "cell_type": "markdown",
   "metadata": {},
   "source": [
    "# Content Based Recommendations\n",
    "\n",
    "The goal here is to see if we can recommend books based on the similarity in the descriptions between books.\n"
   ]
  },
  {
   "cell_type": "code",
   "execution_count": 93,
   "metadata": {},
   "outputs": [],
   "source": [
    "tf = TfidfVectorizer(analyzer='word',\n",
    "                     ngram_range=(1, 2),\n",
    "                     min_df=0,\n",
    "                     stop_words='english')\n",
    "tfidf_matrix = tf.fit_transform(above_average['Description'])"
   ]
  },
  {
   "cell_type": "code",
   "execution_count": 94,
   "metadata": {},
   "outputs": [
    {
     "data": {
      "text/plain": [
       "(91263, 2278115)"
      ]
     },
     "execution_count": 94,
     "metadata": {},
     "output_type": "execute_result"
    }
   ],
   "source": [
    "tfidf_matrix.shape"
   ]
  },
  {
   "cell_type": "markdown",
   "metadata": {},
   "source": [
    "#### Cosine Similarity\n",
    "\n",
    "I will be using the Cosine Similarity to calculate a numeric quantity that denotes the similarity between two books. Mathematically, it is defined as follows:\n",
    "\n",
    "$cosine(x,y) = \\frac{x. y^\\intercal}{||x||.||y||} $\n",
    "\n",
    "Since we have used the TF-IDF Vectorizer, calculating the Dot Product will directly give us the Cosine Similarity Score. Therefore, we will use sklearn's **linear_kernel** instead of cosine_similarities since it is much faster."
   ]
  },
  {
   "cell_type": "code",
   "execution_count": 95,
   "metadata": {},
   "outputs": [],
   "source": [
    "cosine_sim = linear_kernel(tfidf_matrix, tfidf_matrix)"
   ]
  },
  {
   "cell_type": "code",
   "execution_count": 96,
   "metadata": {},
   "outputs": [],
   "source": [
    "\n",
    "# write function to get recommendations based on cosine similarity\n",
    "above_avg = above_average.reset_index()\n",
    "titles = above_avg['Name']\n",
    "indices = pd.Series(above_avg.index, index=above_avg['Name'])\n",
    "\n",
    "def get_recommendations(title):\n",
    "    try:\n",
    "        # handle case in which book by same title is in dataset\n",
    "        idx = indices[title][0]\n",
    "    except IndexError:\n",
    "        idx = indices[title]\n",
    "    sim_scores = list(enumerate(cosine_sim[idx]))\n",
    "    sim_scores = sorted(sim_scores, key=lambda x: x[1], reverse=True)\n",
    "    sim_scores = sim_scores[1:15]\n",
    "    movie_indices = [i[0] for i in sim_scores]\n",
    "    return titles.iloc[movie_indices]"
   ]
  },
  {
   "cell_type": "code",
   "execution_count": 109,
   "metadata": {},
   "outputs": [
    {
     "data": {
      "text/plain": [
       "Int64Index([57699, 58314], dtype='int64')"
      ]
     },
     "execution_count": 109,
     "metadata": {},
     "output_type": "execute_result"
    }
   ],
   "source": []
  },
  {
   "cell_type": "code",
   "execution_count": 127,
   "metadata": {},
   "outputs": [
    {
     "name": "stdout",
     "output_type": "stream",
     "text": [
      "Title: The Extraordinary Adventures of Arsene Lupin, Gentleman-Burglar \n",
      "Description: Leblanc was a French novelist and short story writer known for creating the character Arsene Lupin, who is the French counterpart to the English Sherlock Holmes. In this first of twenty volumes about the French detective, Lupin actually meets the famous Sherlock Holmes. They also met in second volume, but at this point legal problems ended their fictitious meetings. \n",
      "Author: Maurice Leblanc \n",
      "Year: 2008\n"
     ]
    }
   ],
   "source": [
    "index = 57699\n",
    "title = above_avg.iloc[index].Name\n",
    "desc = above_avg.iloc[index].Description\n",
    "author = above_avg.iloc[index].Authors\n",
    "year = above_avg.iloc[index].PublishYear\n",
    "print(\"Title:\", title, \"\\nDescription:\", desc, \"\\nAuthor:\", author, \"\\nYear:\", year)"
   ]
  },
  {
   "cell_type": "code",
   "execution_count": 128,
   "metadata": {},
   "outputs": [
    {
     "data": {
      "text/plain": [
       "58314    The Extraordinary Adventures of Arsene Lupin, ...\n",
       "58255                      Arsene Lupin, Gentleman Burglar\n",
       "58838                         The Exploits of Arsene Lupin\n",
       "349      Sherlock Holmes 6 Book Boxed Set (Collector's ...\n",
       "348                   The Penguin Complete Sherlock Holmes\n",
       "1998                        The Memoirs of Sherlock Holmes\n",
       "45999    The Original Illustrated Sherlock Holmes (Sher...\n",
       "1984                        The Memoirs of Sherlock Holmes\n",
       "1709     The Adventures of Sherlock Holmes (Sherlock Ho...\n",
       "1715                   The Adventures Of Sherlock Holmes (\n",
       "1740     The Adventures of Sherlock Holmes (Sherlock Ho...\n",
       "1745                         Adventures of Sherlock Holmes\n",
       "57539                   Arsene Lupin, Gentleman Cambioleur\n",
       "5930                                    A Study In Scarlet\n",
       "Name: Name, dtype: object"
      ]
     },
     "execution_count": 128,
     "metadata": {},
     "output_type": "execute_result"
    }
   ],
   "source": [
    "get_recommendations(title)"
   ]
  },
  {
   "cell_type": "code",
   "execution_count": 129,
   "metadata": {},
   "outputs": [
    {
     "name": "stdout",
     "output_type": "stream",
     "text": [
      "Title: The Long Patrol (Redwall, #10) \n",
      "Description: The Long Patrol -- that fighting unit of perilous hares -- is called out to draw off the murderous Rapscallion army, and fight them to the death if need be.And the lead sword of the Long Patrol will be taken up by the young, inexperienced hare Tammo -- in one of the most ferocious battles Redwall has ever faced... \n",
      "Author: Brian Jacques \n",
      "Year: 1999\n"
     ]
    }
   ],
   "source": [
    "# lets try another\n",
    "index = 20000\n",
    "title = above_avg.iloc[index].Name\n",
    "desc = above_avg.iloc[index].Description\n",
    "author = above_avg.iloc[index].Authors\n",
    "year = above_avg.iloc[index].PublishYear\n",
    "print(\"Title:\", title, \"\\nDescription:\", desc, \"\\nAuthor:\", author, \"\\nYear:\", year)"
   ]
  },
  {
   "cell_type": "code",
   "execution_count": 130,
   "metadata": {},
   "outputs": [
    {
     "data": {
      "text/plain": [
       "20014         The Long Patrol (Redwall, #10)\n",
       "37357       Outcast of Redwall (Redwall, #8)\n",
       "63852                            Space Cadet\n",
       "10363       Martin the Warrior (Redwall, #6)\n",
       "9041                   Redwall (Redwall, #1)\n",
       "28919      The Pearls of Lutra (Redwall, #9)\n",
       "22040           The Taggerung (Redwall, #14)\n",
       "31218                 Marlfox (Redwall, #11)\n",
       "53014               The Return of the Indian\n",
       "9004                   Redwall (Redwall, #1)\n",
       "23532                          Birds of Prey\n",
       "23746                          Birds of Prey\n",
       "27951        Mariel of Redwall (Redwall, #4)\n",
       "64189    Beguilement (The Sharing Knife, #1)\n",
       "Name: Name, dtype: object"
      ]
     },
     "execution_count": 130,
     "metadata": {},
     "output_type": "execute_result"
    }
   ],
   "source": [
    "get_recommendations(title)"
   ]
  },
  {
   "cell_type": "code",
   "execution_count": 137,
   "metadata": {},
   "outputs": [
    {
     "name": "stdout",
     "output_type": "stream",
     "text": [
      "Title: The First American: The Life and Times of Benjamin Franklin \n",
      "Description: In the first comprehensive biography of Benjamin Franklin in over sixty years, acclaimed historian H. W. Brands brings vividly to life one of the most delightful, bawdy, brilliant, original, and important figures in American history.<br /><br />A groundbreaking scientist, leading businessman, philosopher, bestselling author, inventor, diplomat, politician, and wit, Benjamin Franklin was perhaps the most beloved and celebrated American of his age, or indeed of any age. Now, in a beautifully written and meticulously researched account of Franklin's life and times, his clever repartee, generous spirit, and earthy wisdom are brought compellingly to the page. <br /><br />His circle of friends and acquaintances extended around the globe, from Cotton Mather to Voltaire, from Edmund Burke to King George III, from Sir Isaac Newton to Immanuel Kant. Franklin was gifted with a restless curiosity, and his scientific experiments with electric currents and the weather made him the leading pioneer in the new field of electricity on both sides of the Atlantic; among his many inventions were the lightning rod, the Franklin stove, and the harmonica, a musical instrument that became the rage of Europe. <br /><br />From his humble beginnings in Boston as a printer's apprentice, he became, within two decades, the leading printer and one of the most important businessmen in the Colonies. A longtime Philadelphia civic leader, he created Philadelphia's first fire department, wrote the bestseller <b>Poor Richard's Almanac</b>, served as Postmaster General for the Colonies, and in the process, completely modernized the mail service. A bon vivant and ladies' man throughout his life, he matched wits with Parliament and the Crown during the decade leading up to the Stamp Act; and as the official agent to Parliament, representing several of the Colonies, he helped push the Colonies into open rebellion.<br /><br />Tracing Franklin's gradual transformation from reluctant revolutionary to charismatic leader in the fight for independence, Brands convincingly argues that on the issue of revolution, as Franklin went, so went America. During the Revolutionary War, Franklin was charged by Congress with wooing the King of France to the American cause, and it was the diplomatic alliances he forged and funds he raised in France that allowed the Continental Army to continue to fight on the battlefield. In his final years, as president of the Constitutional Convention, it was Franklin who held together the antagonistic factions and persuaded its members to sign the Constitution.<br /><br />Drawing on previously unpublished letters to and from Franklin, as well as the recollections and anecdotes of Franklin's contemporaries, H. W. Brands has created a rich and compelling portrait of the eighteenth-century genius who was in every respect America's first Renaissance man, and arguably the pivotal figure in colonial and revolutionary America. A fascinating and richly textured biography of the man who was perhaps the greatest of our Founding Fathers, The First American is history on a grand scale, as well as a major contribution to understanding Franklin and the world he helped to shape.<br /> \n",
      "Author: H.W. Brands \n",
      "Year: 2000\n"
     ]
    }
   ],
   "source": [
    "# lets try another\n",
    "index = 20007\n",
    "title = above_avg.iloc[index].Name\n",
    "desc = above_avg.iloc[index].Description\n",
    "author = above_avg.iloc[index].Authors\n",
    "year = above_avg.iloc[index].PublishYear\n",
    "print(\"Title:\", title, \"\\nDescription:\", desc, \"\\nAuthor:\", author, \"\\nYear:\", year)"
   ]
  },
  {
   "cell_type": "code",
   "execution_count": 138,
   "metadata": {},
   "outputs": [
    {
     "data": {
      "text/plain": [
       "37019               The Compleated Autobiography 1757-1790\n",
       "17298                  Benjamin Franklin: An American Life\n",
       "18552                  Benjamin Franklin: An American Life\n",
       "36600             The Americanization of Benjamin Franklin\n",
       "61735                  Franklin Is Bossy (Franklin Series)\n",
       "18554                           A Benjamin Franklin Reader\n",
       "18559                  Benjamin Franklin: An American Life\n",
       "18555                  Benjamin Franklin: An American Life\n",
       "83640    Ben and Me: An Astonishing Life of Benjamin Fr...\n",
       "35731               The Autobiography of Benjamin Franklin\n",
       "35652           Benjamin Franklin: His Life as He Wrote It\n",
       "37004    The Autobiography of Benjamin Franklin: From 1...\n",
       "36445             The Americanization of Benjamin Franklin\n",
       "18435                  Benjamin Franklin: An American Life\n",
       "Name: Name, dtype: object"
      ]
     },
     "execution_count": 138,
     "metadata": {},
     "output_type": "execute_result"
    }
   ],
   "source": [
    "get_recommendations(title)"
   ]
  },
  {
   "cell_type": "code",
   "execution_count": 139,
   "metadata": {},
   "outputs": [
    {
     "name": "stdout",
     "output_type": "stream",
     "text": [
      "Title: The Pleasure Of Finding Things Out: The Best Short Works Of Richard Feynman \n",
      "Description: <i>The Pleasure of Finding Things Out</i> is a magnificent treasury of the best short works of Richard Feynman—from interviews and speeches to lectures and printed articles. A sweeping, wide-ranging collection, it presents an intimate and fascinating view of a life in science—a life like no other.From his ruminations on science in our culture and descriptions of the fantastic properties of quantum physics to his report on the Space Shuttle Challenger disaster and his Nobel Prize acceptance speech, this book will fascinate anyone interested in Feynman and anyone interested in the world of ideas. Newcomers to Feynman will be moved by his wit and deep understanding of the natural world, and of the human experience. \n",
      "Author: Richard P. Feynman \n",
      "Year: 1999\n"
     ]
    }
   ],
   "source": [
    "# ok last one really\n",
    "index = 20009\n",
    "title = above_avg.iloc[index].Name\n",
    "desc = above_avg.iloc[index].Description\n",
    "author = above_avg.iloc[index].Authors\n",
    "year = above_avg.iloc[index].PublishYear\n",
    "print(\"Title:\", title, \"\\nDescription:\", desc, \"\\nAuthor:\", author, \"\\nYear:\", year)"
   ]
  },
  {
   "cell_type": "code",
   "execution_count": 140,
   "metadata": {},
   "outputs": [
    {
     "data": {
      "text/plain": [
       "20008    The Pleasure Of Finding Things Out: The Best S...\n",
       "19921    The Pleasure of Finding Things Out: The Best S...\n",
       "7570     What Do You Care What Other People Think? Furt...\n",
       "12832    QED: The Strange Theory of Light & Matter: Ali...\n",
       "7565     What Do You Care What Other People Think? (Lib...\n",
       "12834          QED: The Strange Theory of Light and Matter\n",
       "45277    The Meaning of It All: Thoughts of a Citizen-S...\n",
       "7796               The Feynman Lectures on Physics, 3 Vols\n",
       "2433     Surely You're Joking, Mr. Feynman: Adventures ...\n",
       "2441     \"Surely You're Joking, Mr. Feynman!\" Adventure...\n",
       "45142                                The Meaning of It All\n",
       "11776                    Six Easy Pieces Book/tape Package\n",
       "2736                  Vous Voulez Rire, Monsieur Feynman !\n",
       "74089    Feynman's Rainbow: A Search for Beauty in Phys...\n",
       "Name: Name, dtype: object"
      ]
     },
     "execution_count": 140,
     "metadata": {},
     "output_type": "execute_result"
    }
   ],
   "source": [
    "get_recommendations(title)"
   ]
  },
  {
   "cell_type": "code",
   "execution_count": null,
   "metadata": {},
   "outputs": [],
   "source": []
  }
 ],
 "metadata": {
  "interpreter": {
   "hash": "38c9af50c08976928deebf428c57c146e573ebfdfedec41aed1e988a69965174"
  },
  "kernelspec": {
   "display_name": "Python 3.8.5 64-bit ('bookrecsys': virtualenv)",
   "language": "python",
   "name": "python3"
  },
  "language_info": {
   "codemirror_mode": {
    "name": "ipython",
    "version": 3
   },
   "file_extension": ".py",
   "mimetype": "text/x-python",
   "name": "python",
   "nbconvert_exporter": "python",
   "pygments_lexer": "ipython3",
   "version": "3.8.5"
  },
  "orig_nbformat": 4
 },
 "nbformat": 4,
 "nbformat_minor": 2
}
